{
  "nbformat": 4,
  "nbformat_minor": 0,
  "metadata": {
    "colab": {
      "provenance": [],
      "collapsed_sections": []
    },
    "kernelspec": {
      "name": "python3",
      "display_name": "Python 3"
    },
    "language_info": {
      "name": "python"
    }
  },
  "cells": [
    {
      "cell_type": "code",
      "source": [
        "!pip install tensorflow_quantum\n"
      ],
      "metadata": {
        "id": "gEOzPqrBbNsV",
        "colab": {
          "base_uri": "https://localhost:8080/",
          "height": 1000
        },
        "outputId": "dc49ef68-1b08-40a8-913b-942ec0ed07ae"
      },
      "execution_count": 1,
      "outputs": [
        {
          "output_type": "stream",
          "name": "stdout",
          "text": [
            "Looking in indexes: https://pypi.org/simple, https://us-python.pkg.dev/colab-wheels/public/simple/\n",
            "Requirement already satisfied: tensorflow_quantum in /usr/local/lib/python3.7/dist-packages (0.7.2)\n",
            "Requirement already satisfied: google-auth==1.18.0 in /usr/local/lib/python3.7/dist-packages (from tensorflow_quantum) (1.18.0)\n",
            "Requirement already satisfied: cirq-google>=0.13.1 in /usr/local/lib/python3.7/dist-packages (from tensorflow_quantum) (1.0.0)\n",
            "Requirement already satisfied: google-api-core==1.21.0 in /usr/local/lib/python3.7/dist-packages (from tensorflow_quantum) (1.21.0)\n",
            "Requirement already satisfied: sympy==1.8 in /usr/local/lib/python3.7/dist-packages (from tensorflow_quantum) (1.8)\n",
            "Requirement already satisfied: googleapis-common-protos==1.52.0 in /usr/local/lib/python3.7/dist-packages (from tensorflow_quantum) (1.52.0)\n",
            "Collecting protobuf==3.17.3\n",
            "  Downloading protobuf-3.17.3-cp37-cp37m-manylinux_2_5_x86_64.manylinux1_x86_64.whl (1.0 MB)\n",
            "\u001b[K     |████████████████████████████████| 1.0 MB 33.8 MB/s \n",
            "\u001b[?25hCollecting cirq-core==0.13.1\n",
            "  Using cached cirq_core-0.13.1-py3-none-any.whl (1.6 MB)\n",
            "Requirement already satisfied: duet~=0.2.0 in /usr/local/lib/python3.7/dist-packages (from cirq-core==0.13.1->tensorflow_quantum) (0.2.7)\n",
            "Requirement already satisfied: tqdm in /usr/local/lib/python3.7/dist-packages (from cirq-core==0.13.1->tensorflow_quantum) (4.64.1)\n",
            "Requirement already satisfied: typing-extensions in /usr/local/lib/python3.7/dist-packages (from cirq-core==0.13.1->tensorflow_quantum) (3.10.0.0)\n",
            "Requirement already satisfied: numpy~=1.16 in /usr/local/lib/python3.7/dist-packages (from cirq-core==0.13.1->tensorflow_quantum) (1.21.6)\n",
            "Requirement already satisfied: pandas in /usr/local/lib/python3.7/dist-packages (from cirq-core==0.13.1->tensorflow_quantum) (1.3.5)\n",
            "Requirement already satisfied: scipy in /usr/local/lib/python3.7/dist-packages (from cirq-core==0.13.1->tensorflow_quantum) (1.7.3)\n",
            "Requirement already satisfied: networkx~=2.4 in /usr/local/lib/python3.7/dist-packages (from cirq-core==0.13.1->tensorflow_quantum) (2.6.3)\n",
            "Requirement already satisfied: sortedcontainers~=2.0 in /usr/local/lib/python3.7/dist-packages (from cirq-core==0.13.1->tensorflow_quantum) (2.4.0)\n",
            "Requirement already satisfied: matplotlib~=3.0 in /usr/local/lib/python3.7/dist-packages (from cirq-core==0.13.1->tensorflow_quantum) (3.2.2)\n",
            "Requirement already satisfied: pytz in /usr/local/lib/python3.7/dist-packages (from google-api-core==1.21.0->tensorflow_quantum) (2022.2.1)\n",
            "Requirement already satisfied: six>=1.10.0 in /usr/local/lib/python3.7/dist-packages (from google-api-core==1.21.0->tensorflow_quantum) (1.15.0)\n",
            "Requirement already satisfied: requests<3.0.0dev,>=2.18.0 in /usr/local/lib/python3.7/dist-packages (from google-api-core==1.21.0->tensorflow_quantum) (2.23.0)\n",
            "Requirement already satisfied: setuptools>=34.0.0 in /usr/local/lib/python3.7/dist-packages (from google-api-core==1.21.0->tensorflow_quantum) (57.4.0)\n",
            "Requirement already satisfied: rsa<5,>=3.1.4 in /usr/local/lib/python3.7/dist-packages (from google-auth==1.18.0->tensorflow_quantum) (4.9)\n",
            "Requirement already satisfied: pyasn1-modules>=0.2.1 in /usr/local/lib/python3.7/dist-packages (from google-auth==1.18.0->tensorflow_quantum) (0.2.8)\n",
            "Requirement already satisfied: cachetools<5.0,>=2.0.0 in /usr/local/lib/python3.7/dist-packages (from google-auth==1.18.0->tensorflow_quantum) (4.2.4)\n",
            "Requirement already satisfied: mpmath>=0.19 in /usr/local/lib/python3.7/dist-packages (from sympy==1.8->tensorflow_quantum) (1.2.1)\n",
            "Collecting cirq-google>=0.13.1\n",
            "  Using cached cirq_google-0.15.0-py3-none-any.whl (641 kB)\n",
            "  Using cached cirq_google-0.14.1-py3-none-any.whl (541 kB)\n",
            "  Using cached cirq_google-0.14.0-py3-none-any.whl (541 kB)\n",
            "  Using cached cirq_google-0.13.1-py3-none-any.whl (437 kB)\n",
            "Requirement already satisfied: grpcio<2.0dev,>=1.29.0 in /usr/local/lib/python3.7/dist-packages (from google-api-core==1.21.0->tensorflow_quantum) (1.48.1)\n",
            "Requirement already satisfied: python-dateutil>=2.1 in /usr/local/lib/python3.7/dist-packages (from matplotlib~=3.0->cirq-core==0.13.1->tensorflow_quantum) (2.8.2)\n",
            "Requirement already satisfied: pyparsing!=2.0.4,!=2.1.2,!=2.1.6,>=2.0.1 in /usr/local/lib/python3.7/dist-packages (from matplotlib~=3.0->cirq-core==0.13.1->tensorflow_quantum) (3.0.9)\n",
            "Requirement already satisfied: cycler>=0.10 in /usr/local/lib/python3.7/dist-packages (from matplotlib~=3.0->cirq-core==0.13.1->tensorflow_quantum) (0.11.0)\n",
            "Requirement already satisfied: kiwisolver>=1.0.1 in /usr/local/lib/python3.7/dist-packages (from matplotlib~=3.0->cirq-core==0.13.1->tensorflow_quantum) (1.4.4)\n",
            "Requirement already satisfied: pyasn1<0.5.0,>=0.4.6 in /usr/local/lib/python3.7/dist-packages (from pyasn1-modules>=0.2.1->google-auth==1.18.0->tensorflow_quantum) (0.4.8)\n",
            "Requirement already satisfied: certifi>=2017.4.17 in /usr/local/lib/python3.7/dist-packages (from requests<3.0.0dev,>=2.18.0->google-api-core==1.21.0->tensorflow_quantum) (2022.6.15)\n",
            "Requirement already satisfied: chardet<4,>=3.0.2 in /usr/local/lib/python3.7/dist-packages (from requests<3.0.0dev,>=2.18.0->google-api-core==1.21.0->tensorflow_quantum) (3.0.4)\n",
            "Requirement already satisfied: urllib3!=1.25.0,!=1.25.1,<1.26,>=1.21.1 in /usr/local/lib/python3.7/dist-packages (from requests<3.0.0dev,>=2.18.0->google-api-core==1.21.0->tensorflow_quantum) (1.24.3)\n",
            "Requirement already satisfied: idna<3,>=2.5 in /usr/local/lib/python3.7/dist-packages (from requests<3.0.0dev,>=2.18.0->google-api-core==1.21.0->tensorflow_quantum) (2.10)\n",
            "Installing collected packages: protobuf, cirq-core, cirq-google\n",
            "  Attempting uninstall: protobuf\n",
            "    Found existing installation: protobuf 3.20.3\n",
            "    Uninstalling protobuf-3.20.3:\n",
            "      Successfully uninstalled protobuf-3.20.3\n",
            "  Attempting uninstall: cirq-core\n",
            "    Found existing installation: cirq-core 1.0.0\n",
            "    Uninstalling cirq-core-1.0.0:\n",
            "      Successfully uninstalled cirq-core-1.0.0\n",
            "  Attempting uninstall: cirq-google\n",
            "    Found existing installation: cirq-google 1.0.0\n",
            "    Uninstalling cirq-google-1.0.0:\n",
            "      Successfully uninstalled cirq-google-1.0.0\n",
            "\u001b[31mERROR: pip's dependency resolver does not currently take into account all the packages that are installed. This behaviour is the source of the following dependency conflicts.\n",
            "proto-plus 1.22.1 requires protobuf<5.0.0dev,>=3.19.0, but you have protobuf 3.17.3 which is incompatible.\n",
            "google-cloud-bigquery-storage 1.1.2 requires google-api-core[grpc]!=2.0.*,!=2.1.*,!=2.2.*,!=2.3.0,<3.0.0dev,>=1.31.5, but you have google-api-core 1.21.0 which is incompatible.\n",
            "cirq 1.0.0 requires cirq-core==1.0.0, but you have cirq-core 0.13.1 which is incompatible.\n",
            "cirq 1.0.0 requires cirq-google==1.0.0, but you have cirq-google 0.13.1 which is incompatible.\n",
            "cirq-web 1.0.0 requires cirq-core==1.0.0, but you have cirq-core 0.13.1 which is incompatible.\n",
            "cirq-rigetti 1.0.0 requires cirq-core==1.0.0, but you have cirq-core 0.13.1 which is incompatible.\n",
            "cirq-pasqal 1.0.0 requires cirq-core==1.0.0, but you have cirq-core 0.13.1 which is incompatible.\n",
            "cirq-ionq 1.0.0 requires cirq-core==1.0.0, but you have cirq-core 0.13.1 which is incompatible.\n",
            "cirq-aqt 1.0.0 requires cirq-core==1.0.0, but you have cirq-core 0.13.1 which is incompatible.\u001b[0m\n",
            "Successfully installed cirq-core-0.13.1 cirq-google-0.13.1 protobuf-3.17.3\n"
          ]
        },
        {
          "output_type": "display_data",
          "data": {
            "application/vnd.colab-display-data+json": {
              "pip_warning": {
                "packages": [
                  "google"
                ]
              }
            }
          },
          "metadata": {}
        }
      ]
    },
    {
      "cell_type": "code",
      "source": [
        "pip install cirq"
      ],
      "metadata": {
        "colab": {
          "base_uri": "https://localhost:8080/",
          "height": 1000
        },
        "id": "iwVXQ_FkND4E",
        "outputId": "3f0338c9-1611-4ac8-f394-816c39259555"
      },
      "execution_count": 2,
      "outputs": [
        {
          "output_type": "stream",
          "name": "stdout",
          "text": [
            "Looking in indexes: https://pypi.org/simple, https://us-python.pkg.dev/colab-wheels/public/simple/\n",
            "Requirement already satisfied: cirq in /usr/local/lib/python3.7/dist-packages (1.0.0)\n",
            "Requirement already satisfied: cirq-web==1.0.0 in /usr/local/lib/python3.7/dist-packages (from cirq) (1.0.0)\n",
            "Requirement already satisfied: cirq-pasqal==1.0.0 in /usr/local/lib/python3.7/dist-packages (from cirq) (1.0.0)\n",
            "Collecting cirq-core==1.0.0\n",
            "  Using cached cirq_core-1.0.0-py3-none-any.whl (1.8 MB)\n",
            "Requirement already satisfied: cirq-rigetti==1.0.0 in /usr/local/lib/python3.7/dist-packages (from cirq) (1.0.0)\n",
            "Collecting cirq-google==1.0.0\n",
            "  Using cached cirq_google-1.0.0-py3-none-any.whl (576 kB)\n",
            "Requirement already satisfied: cirq-aqt==1.0.0 in /usr/local/lib/python3.7/dist-packages (from cirq) (1.0.0)\n",
            "Requirement already satisfied: cirq-ionq==1.0.0 in /usr/local/lib/python3.7/dist-packages (from cirq) (1.0.0)\n",
            "Requirement already satisfied: requests~=2.18 in /usr/local/lib/python3.7/dist-packages (from cirq-aqt==1.0.0->cirq) (2.23.0)\n",
            "Requirement already satisfied: scipy in /usr/local/lib/python3.7/dist-packages (from cirq-core==1.0.0->cirq) (1.7.3)\n",
            "Requirement already satisfied: duet~=0.2.7 in /usr/local/lib/python3.7/dist-packages (from cirq-core==1.0.0->cirq) (0.2.7)\n",
            "Requirement already satisfied: tqdm in /usr/local/lib/python3.7/dist-packages (from cirq-core==1.0.0->cirq) (4.64.1)\n",
            "Requirement already satisfied: networkx~=2.4 in /usr/local/lib/python3.7/dist-packages (from cirq-core==1.0.0->cirq) (2.6.3)\n",
            "Requirement already satisfied: backports.cached-property~=1.0.1 in /usr/local/lib/python3.7/dist-packages (from cirq-core==1.0.0->cirq) (1.0.2)\n",
            "Requirement already satisfied: sortedcontainers~=2.0 in /usr/local/lib/python3.7/dist-packages (from cirq-core==1.0.0->cirq) (2.4.0)\n",
            "Requirement already satisfied: numpy~=1.16 in /usr/local/lib/python3.7/dist-packages (from cirq-core==1.0.0->cirq) (1.21.6)\n",
            "Requirement already satisfied: matplotlib~=3.0 in /usr/local/lib/python3.7/dist-packages (from cirq-core==1.0.0->cirq) (3.2.2)\n",
            "Requirement already satisfied: pandas in /usr/local/lib/python3.7/dist-packages (from cirq-core==1.0.0->cirq) (1.3.5)\n",
            "Requirement already satisfied: typing-extensions in /usr/local/lib/python3.7/dist-packages (from cirq-core==1.0.0->cirq) (3.10.0.0)\n",
            "Requirement already satisfied: sympy in /usr/local/lib/python3.7/dist-packages (from cirq-core==1.0.0->cirq) (1.8)\n",
            "Requirement already satisfied: protobuf<4,>=3.15.0 in /usr/local/lib/python3.7/dist-packages (from cirq-google==1.0.0->cirq) (3.17.3)\n",
            "Requirement already satisfied: proto-plus>=1.20.0 in /usr/local/lib/python3.7/dist-packages (from cirq-google==1.0.0->cirq) (1.22.1)\n",
            "Requirement already satisfied: google-api-core[grpc]<2.0.0dev,>=1.14.0 in /usr/local/lib/python3.7/dist-packages (from cirq-google==1.0.0->cirq) (1.21.0)\n",
            "Requirement already satisfied: pyquil>=3.0.0 in /usr/local/lib/python3.7/dist-packages (from cirq-rigetti==1.0.0->cirq) (3.3.2)\n",
            "Requirement already satisfied: googleapis-common-protos<2.0dev,>=1.6.0 in /usr/local/lib/python3.7/dist-packages (from google-api-core[grpc]<2.0.0dev,>=1.14.0->cirq-google==1.0.0->cirq) (1.52.0)\n",
            "Requirement already satisfied: pytz in /usr/local/lib/python3.7/dist-packages (from google-api-core[grpc]<2.0.0dev,>=1.14.0->cirq-google==1.0.0->cirq) (2022.2.1)\n",
            "Requirement already satisfied: setuptools>=34.0.0 in /usr/local/lib/python3.7/dist-packages (from google-api-core[grpc]<2.0.0dev,>=1.14.0->cirq-google==1.0.0->cirq) (57.4.0)\n",
            "Requirement already satisfied: six>=1.10.0 in /usr/local/lib/python3.7/dist-packages (from google-api-core[grpc]<2.0.0dev,>=1.14.0->cirq-google==1.0.0->cirq) (1.15.0)\n",
            "Requirement already satisfied: google-auth<2.0dev,>=1.18.0 in /usr/local/lib/python3.7/dist-packages (from google-api-core[grpc]<2.0.0dev,>=1.14.0->cirq-google==1.0.0->cirq) (1.18.0)\n",
            "Requirement already satisfied: grpcio<2.0dev,>=1.29.0 in /usr/local/lib/python3.7/dist-packages (from google-api-core[grpc]<2.0.0dev,>=1.14.0->cirq-google==1.0.0->cirq) (1.48.1)\n",
            "Requirement already satisfied: rsa<5,>=3.1.4 in /usr/local/lib/python3.7/dist-packages (from google-auth<2.0dev,>=1.18.0->google-api-core[grpc]<2.0.0dev,>=1.14.0->cirq-google==1.0.0->cirq) (4.9)\n",
            "Requirement already satisfied: cachetools<5.0,>=2.0.0 in /usr/local/lib/python3.7/dist-packages (from google-auth<2.0dev,>=1.18.0->google-api-core[grpc]<2.0.0dev,>=1.14.0->cirq-google==1.0.0->cirq) (4.2.4)\n",
            "Requirement already satisfied: pyasn1-modules>=0.2.1 in /usr/local/lib/python3.7/dist-packages (from google-auth<2.0dev,>=1.18.0->google-api-core[grpc]<2.0.0dev,>=1.14.0->cirq-google==1.0.0->cirq) (0.2.8)\n",
            "Requirement already satisfied: kiwisolver>=1.0.1 in /usr/local/lib/python3.7/dist-packages (from matplotlib~=3.0->cirq-core==1.0.0->cirq) (1.4.4)\n",
            "Requirement already satisfied: cycler>=0.10 in /usr/local/lib/python3.7/dist-packages (from matplotlib~=3.0->cirq-core==1.0.0->cirq) (0.11.0)\n",
            "Requirement already satisfied: python-dateutil>=2.1 in /usr/local/lib/python3.7/dist-packages (from matplotlib~=3.0->cirq-core==1.0.0->cirq) (2.8.2)\n",
            "Requirement already satisfied: pyparsing!=2.0.4,!=2.1.2,!=2.1.6,>=2.0.1 in /usr/local/lib/python3.7/dist-packages (from matplotlib~=3.0->cirq-core==1.0.0->cirq) (3.0.9)\n",
            "Collecting protobuf<4,>=3.15.0\n",
            "  Using cached protobuf-3.20.3-cp37-cp37m-manylinux_2_5_x86_64.manylinux1_x86_64.whl (1.0 MB)\n",
            "Requirement already satisfied: pyasn1<0.5.0,>=0.4.6 in /usr/local/lib/python3.7/dist-packages (from pyasn1-modules>=0.2.1->google-auth<2.0dev,>=1.18.0->google-api-core[grpc]<2.0.0dev,>=1.14.0->cirq-google==1.0.0->cirq) (0.4.8)\n",
            "Requirement already satisfied: retry<0.10.0,>=0.9.2 in /usr/local/lib/python3.7/dist-packages (from pyquil>=3.0.0->cirq-rigetti==1.0.0->cirq) (0.9.2)\n",
            "Requirement already satisfied: qcs-api-client<0.22.0,>=0.21.0 in /usr/local/lib/python3.7/dist-packages (from pyquil>=3.0.0->cirq-rigetti==1.0.0->cirq) (0.21.2)\n",
            "Requirement already satisfied: importlib-metadata<5,>=3.7.3 in /usr/local/lib/python3.7/dist-packages (from pyquil>=3.0.0->cirq-rigetti==1.0.0->cirq) (4.12.0)\n",
            "Requirement already satisfied: types-retry<0.10.0,>=0.9.9 in /usr/local/lib/python3.7/dist-packages (from pyquil>=3.0.0->cirq-rigetti==1.0.0->cirq) (0.9.9)\n",
            "Requirement already satisfied: types-python-dateutil<3.0.0,>=2.8.19 in /usr/local/lib/python3.7/dist-packages (from pyquil>=3.0.0->cirq-rigetti==1.0.0->cirq) (2.8.19)\n",
            "Requirement already satisfied: lark<0.12.0,>=0.11.1 in /usr/local/lib/python3.7/dist-packages (from pyquil>=3.0.0->cirq-rigetti==1.0.0->cirq) (0.11.3)\n",
            "Requirement already satisfied: rpcq<4.0.0,>=3.10.0 in /usr/local/lib/python3.7/dist-packages (from pyquil>=3.0.0->cirq-rigetti==1.0.0->cirq) (3.10.0)\n",
            "Requirement already satisfied: zipp>=0.5 in /usr/local/lib/python3.7/dist-packages (from importlib-metadata<5,>=3.7.3->pyquil>=3.0.0->cirq-rigetti==1.0.0->cirq) (3.8.1)\n",
            "Requirement already satisfied: iso8601<2.0.0,>=1.0.2 in /usr/local/lib/python3.7/dist-packages (from qcs-api-client<0.22.0,>=0.21.0->pyquil>=3.0.0->cirq-rigetti==1.0.0->cirq) (1.1.0)\n",
            "Requirement already satisfied: attrs<21.0.0,>=20.1.0 in /usr/local/lib/python3.7/dist-packages (from qcs-api-client<0.22.0,>=0.21.0->pyquil>=3.0.0->cirq-rigetti==1.0.0->cirq) (20.3.0)\n",
            "Requirement already satisfied: PyJWT<3.0.0,>=2.4.0 in /usr/local/lib/python3.7/dist-packages (from qcs-api-client<0.22.0,>=0.21.0->pyquil>=3.0.0->cirq-rigetti==1.0.0->cirq) (2.5.0)\n",
            "Requirement already satisfied: rfc3339<7.0,>=6.2 in /usr/local/lib/python3.7/dist-packages (from qcs-api-client<0.22.0,>=0.21.0->pyquil>=3.0.0->cirq-rigetti==1.0.0->cirq) (6.2)\n",
            "Requirement already satisfied: pydantic<2.0.0,>=1.7.2 in /usr/local/lib/python3.7/dist-packages (from qcs-api-client<0.22.0,>=0.21.0->pyquil>=3.0.0->cirq-rigetti==1.0.0->cirq) (1.9.2)\n",
            "Requirement already satisfied: httpx<0.24.0,>=0.23.0 in /usr/local/lib/python3.7/dist-packages (from qcs-api-client<0.22.0,>=0.21.0->pyquil>=3.0.0->cirq-rigetti==1.0.0->cirq) (0.23.0)\n",
            "Requirement already satisfied: toml<0.11.0,>=0.10.2 in /usr/local/lib/python3.7/dist-packages (from qcs-api-client<0.22.0,>=0.21.0->pyquil>=3.0.0->cirq-rigetti==1.0.0->cirq) (0.10.2)\n",
            "Requirement already satisfied: retrying<2.0.0,>=1.3.3 in /usr/local/lib/python3.7/dist-packages (from qcs-api-client<0.22.0,>=0.21.0->pyquil>=3.0.0->cirq-rigetti==1.0.0->cirq) (1.3.3)\n",
            "Requirement already satisfied: rfc3986[idna2008]<2,>=1.3 in /usr/local/lib/python3.7/dist-packages (from httpx<0.24.0,>=0.23.0->qcs-api-client<0.22.0,>=0.21.0->pyquil>=3.0.0->cirq-rigetti==1.0.0->cirq) (1.5.0)\n",
            "Requirement already satisfied: httpcore<0.16.0,>=0.15.0 in /usr/local/lib/python3.7/dist-packages (from httpx<0.24.0,>=0.23.0->qcs-api-client<0.22.0,>=0.21.0->pyquil>=3.0.0->cirq-rigetti==1.0.0->cirq) (0.15.0)\n",
            "Requirement already satisfied: certifi in /usr/local/lib/python3.7/dist-packages (from httpx<0.24.0,>=0.23.0->qcs-api-client<0.22.0,>=0.21.0->pyquil>=3.0.0->cirq-rigetti==1.0.0->cirq) (2022.6.15)\n",
            "Requirement already satisfied: sniffio in /usr/local/lib/python3.7/dist-packages (from httpx<0.24.0,>=0.23.0->qcs-api-client<0.22.0,>=0.21.0->pyquil>=3.0.0->cirq-rigetti==1.0.0->cirq) (1.3.0)\n",
            "Requirement already satisfied: anyio==3.* in /usr/local/lib/python3.7/dist-packages (from httpcore<0.16.0,>=0.15.0->httpx<0.24.0,>=0.23.0->qcs-api-client<0.22.0,>=0.21.0->pyquil>=3.0.0->cirq-rigetti==1.0.0->cirq) (3.6.1)\n",
            "Requirement already satisfied: h11<0.13,>=0.11 in /usr/local/lib/python3.7/dist-packages (from httpcore<0.16.0,>=0.15.0->httpx<0.24.0,>=0.23.0->qcs-api-client<0.22.0,>=0.21.0->pyquil>=3.0.0->cirq-rigetti==1.0.0->cirq) (0.12.0)\n",
            "Requirement already satisfied: idna>=2.8 in /usr/local/lib/python3.7/dist-packages (from anyio==3.*->httpcore<0.16.0,>=0.15.0->httpx<0.24.0,>=0.23.0->qcs-api-client<0.22.0,>=0.21.0->pyquil>=3.0.0->cirq-rigetti==1.0.0->cirq) (2.10)\n",
            "Requirement already satisfied: urllib3!=1.25.0,!=1.25.1,<1.26,>=1.21.1 in /usr/local/lib/python3.7/dist-packages (from requests~=2.18->cirq-aqt==1.0.0->cirq) (1.24.3)\n",
            "Requirement already satisfied: chardet<4,>=3.0.2 in /usr/local/lib/python3.7/dist-packages (from requests~=2.18->cirq-aqt==1.0.0->cirq) (3.0.4)\n",
            "Requirement already satisfied: decorator>=3.4.2 in /usr/local/lib/python3.7/dist-packages (from retry<0.10.0,>=0.9.2->pyquil>=3.0.0->cirq-rigetti==1.0.0->cirq) (4.4.2)\n",
            "Requirement already satisfied: py<2.0.0,>=1.4.26 in /usr/local/lib/python3.7/dist-packages (from retry<0.10.0,>=0.9.2->pyquil>=3.0.0->cirq-rigetti==1.0.0->cirq) (1.11.0)\n",
            "Requirement already satisfied: msgpack<1.0,>=0.6 in /usr/local/lib/python3.7/dist-packages (from rpcq<4.0.0,>=3.10.0->pyquil>=3.0.0->cirq-rigetti==1.0.0->cirq) (0.6.2)\n",
            "Requirement already satisfied: pyzmq>=17 in /usr/local/lib/python3.7/dist-packages (from rpcq<4.0.0,>=3.10.0->pyquil>=3.0.0->cirq-rigetti==1.0.0->cirq) (23.2.1)\n",
            "Requirement already satisfied: ruamel.yaml in /usr/local/lib/python3.7/dist-packages (from rpcq<4.0.0,>=3.10.0->pyquil>=3.0.0->cirq-rigetti==1.0.0->cirq) (0.17.21)\n",
            "Requirement already satisfied: python-rapidjson in /usr/local/lib/python3.7/dist-packages (from rpcq<4.0.0,>=3.10.0->pyquil>=3.0.0->cirq-rigetti==1.0.0->cirq) (1.8)\n",
            "Requirement already satisfied: ruamel.yaml.clib>=0.2.6 in /usr/local/lib/python3.7/dist-packages (from ruamel.yaml->rpcq<4.0.0,>=3.10.0->pyquil>=3.0.0->cirq-rigetti==1.0.0->cirq) (0.2.6)\n",
            "Requirement already satisfied: mpmath>=0.19 in /usr/local/lib/python3.7/dist-packages (from sympy->cirq-core==1.0.0->cirq) (1.2.1)\n",
            "Installing collected packages: protobuf, cirq-core, cirq-google\n",
            "  Attempting uninstall: protobuf\n",
            "    Found existing installation: protobuf 3.17.3\n",
            "    Uninstalling protobuf-3.17.3:\n",
            "      Successfully uninstalled protobuf-3.17.3\n",
            "  Attempting uninstall: cirq-core\n",
            "    Found existing installation: cirq-core 0.13.1\n",
            "    Uninstalling cirq-core-0.13.1:\n",
            "      Successfully uninstalled cirq-core-0.13.1\n",
            "  Attempting uninstall: cirq-google\n",
            "    Found existing installation: cirq-google 0.13.1\n",
            "    Uninstalling cirq-google-0.13.1:\n",
            "      Successfully uninstalled cirq-google-0.13.1\n",
            "\u001b[31mERROR: pip's dependency resolver does not currently take into account all the packages that are installed. This behaviour is the source of the following dependency conflicts.\n",
            "tensorflow 2.8.2+zzzcolab20220719082949 requires protobuf<3.20,>=3.9.2, but you have protobuf 3.20.3 which is incompatible.\n",
            "tensorflow-quantum 0.7.2 requires cirq-core==0.13.1, but you have cirq-core 1.0.0 which is incompatible.\n",
            "tensorflow-quantum 0.7.2 requires protobuf==3.17.3, but you have protobuf 3.20.3 which is incompatible.\n",
            "google-cloud-bigquery-storage 1.1.2 requires google-api-core[grpc]!=2.0.*,!=2.1.*,!=2.2.*,!=2.3.0,<3.0.0dev,>=1.31.5, but you have google-api-core 1.21.0 which is incompatible.\u001b[0m\n",
            "Successfully installed cirq-core-1.0.0 cirq-google-1.0.0 protobuf-3.20.3\n"
          ]
        },
        {
          "output_type": "display_data",
          "data": {
            "application/vnd.colab-display-data+json": {
              "pip_warning": {
                "packages": [
                  "google"
                ]
              }
            }
          },
          "metadata": {}
        }
      ]
    },
    {
      "cell_type": "markdown",
      "source": [
        "Main Libraries"
      ],
      "metadata": {
        "id": "v2AktdHZq2v8"
      }
    },
    {
      "cell_type": "code",
      "source": [
        "\n",
        "import numpy as np\n",
        "import matplotlib.pyplot as plt\n",
        "# QML\n",
        "import tensorflow as tf\n",
        "import tensorflow_quantum as tfq\n",
        "import cirq\n",
        "import sympy\n",
        "from cirq.contrib.svg import SVGCircuit\n"
      ],
      "metadata": {
        "id": "IJ_cwChULqeI"
      },
      "execution_count": 3,
      "outputs": []
    },
    {
      "cell_type": "code",
      "source": [
        "# Import dataset from keras\n",
        "from tensorflow.keras.datasets import fashion_mnist as dataset\n",
        "(X_train,y_train),(X_test,y_test) = dataset.load_data()"
      ],
      "metadata": {
        "id": "yFN1d_bSfNQX"
      },
      "execution_count": 4,
      "outputs": []
    },
    {
      "cell_type": "code",
      "source": [
        "print(X_train.shape)\n",
        "print(y_train.shape)\n",
        "print(X_test.shape)\n",
        "print(y_test.shape)"
      ],
      "metadata": {
        "id": "iXJweL6nf6qo",
        "colab": {
          "base_uri": "https://localhost:8080/"
        },
        "outputId": "eea9e103-d480-4f90-f4ed-0b5b3306516f"
      },
      "execution_count": 5,
      "outputs": [
        {
          "output_type": "stream",
          "name": "stdout",
          "text": [
            "(60000, 28, 28)\n",
            "(60000,)\n",
            "(10000, 28, 28)\n",
            "(10000,)\n"
          ]
        }
      ]
    },
    {
      "cell_type": "code",
      "source": [
        "# Prepare The Dataset\n",
        "def filter_data(x,y):\n",
        "  # filter data using labels\n",
        "  keep = (y==5)|(y==9)\n",
        "  x,y = x[keep],y[keep]\n",
        "  y = y==5\n",
        "  return x,y"
      ],
      "metadata": {
        "id": "hbdBUhVdg6U1"
      },
      "execution_count": 6,
      "outputs": []
    },
    {
      "cell_type": "code",
      "source": [
        "# Filter train & test data\n",
        "X_train,y_train = filter_data(X_train,y_train)\n",
        "X_test,y_test = filter_data(X_test,y_test)"
      ],
      "metadata": {
        "id": "VbPxAHDUg6XM"
      },
      "execution_count": 7,
      "outputs": []
    },
    {
      "cell_type": "code",
      "source": [
        "print(X_train.shape)\n",
        "print(y_train.shape)\n",
        "print(X_test.shape)\n",
        "print(y_test.shape)"
      ],
      "metadata": {
        "id": "nSMMDUuJg6ZS",
        "colab": {
          "base_uri": "https://localhost:8080/"
        },
        "outputId": "0eff283b-fa06-4344-d820-f722e2560b9f"
      },
      "execution_count": 8,
      "outputs": [
        {
          "output_type": "stream",
          "name": "stdout",
          "text": [
            "(12000, 28, 28)\n",
            "(12000,)\n",
            "(2000, 28, 28)\n",
            "(2000,)\n"
          ]
        }
      ]
    },
    {
      "cell_type": "markdown",
      "source": [
        "Visualization"
      ],
      "metadata": {
        "id": "wRD8NmTprL_W"
      }
    },
    {
      "cell_type": "code",
      "source": [
        "# PLOTING\n",
        "print(\"FIRST IMG HAS LABEL{}\".format(y_train[0]))\n",
        "plt.imshow(X_train[0])\n",
        "plt.colorbar(orientation=\"vertical\")\n",
        "plt.title(\"Visualization\")\n",
        "plt.show()\n"
      ],
      "metadata": {
        "id": "UvA7BU7-g6ba",
        "colab": {
          "base_uri": "https://localhost:8080/",
          "height": 298
        },
        "outputId": "3bb234e9-1aa2-4367-8f4b-b55e66c6cd18"
      },
      "execution_count": 9,
      "outputs": [
        {
          "output_type": "stream",
          "name": "stdout",
          "text": [
            "FIRST IMG HAS LABELFalse\n"
          ]
        },
        {
          "output_type": "display_data",
          "data": {
            "text/plain": [
              "<Figure size 432x288 with 2 Axes>"
            ],
            "image/png": "[encoded data removed]"
          },
          "metadata": {
            "needs_background": "light"
          }
        }
      ]
    },
    {
      "cell_type": "code",
      "source": [
        "# Normalizing Train & Test in Image data\n",
        "X_train = X_train/255.0\n",
        "X_test = X_test/255.0"
      ],
      "metadata": {
        "id": "E6TjpA6qg6dP"
      },
      "execution_count": 10,
      "outputs": []
    },
    {
      "cell_type": "code",
      "source": [
        "plt.imshow(X_train[0])\n",
        "plt.colorbar(orientation=\"vertical\")\n",
        "plt.title(\"Visualization\")\n",
        "plt.show()"
      ],
      "metadata": {
        "id": "7PqVfrxyg6gx",
        "colab": {
          "base_uri": "https://localhost:8080/",
          "height": 281
        },
        "outputId": "54ce8b0c-74c8-48f9-9ae7-a569e5f35019"
      },
      "execution_count": 11,
      "outputs": [
        {
          "output_type": "display_data",
          "data": {
            "text/plain": [
              "<Figure size 432x288 with 2 Axes>"
            ],
            "image/png": "[encoded data removed]"
          },
          "metadata": {
            "needs_background": "light"
          }
        }
      ]
    },
    {
      "cell_type": "code",
      "source": [
        "X_train = X_train.reshape(X_train.shape[0],*(28,28,1))\n",
        "X_test = X_test.reshape(X_test.shape[0],*(28,28,1))"
      ],
      "metadata": {
        "id": "o7nkveoym3Ng"
      },
      "execution_count": 12,
      "outputs": []
    },
    {
      "cell_type": "code",
      "source": [
        "# Reshape the dataset\n",
        "X_train = tf.image.resize(X_train,(2,2)).numpy()\n",
        "X_test = tf.image.resize(X_test,(2,2)).numpy()"
      ],
      "metadata": {
        "id": "1-eGzQlll53a"
      },
      "execution_count": 13,
      "outputs": []
    },
    {
      "cell_type": "code",
      "source": [
        "plt.imshow(X_train[1,:,:,0])\n",
        "plt.colorbar(orientation=\"vertical\")\n",
        "plt.title(\"Visualization Resized Dataset\")\n",
        "plt.show()"
      ],
      "metadata": {
        "id": "HbD4fUsrg6mA",
        "colab": {
          "base_uri": "https://localhost:8080/",
          "height": 281
        },
        "outputId": "90c5e6fe-eb48-4775-8624-edd09e842550"
      },
      "execution_count": 14,
      "outputs": [
        {
          "output_type": "display_data",
          "data": {
            "text/plain": [
              "<Figure size 432x288 with 2 Axes>"
            ],
            "image/png": "[encoded data removed]"
          },
          "metadata": {
            "needs_background": "light"
          }
        }
      ]
    },
    {
      "cell_type": "markdown",
      "source": [
        "MODEL BULIDING\n"
      ],
      "metadata": {
        "id": "w_3H9uXLn3xJ"
      }
    },
    {
      "cell_type": "code",
      "source": [
        "from sklearn.model_selection import train_test_split\n",
        "X_train,X_valid,y_train,y_valid = train_test_split(X_train,y_train,test_size=0.15,random_state=0)"
      ],
      "metadata": {
        "id": "Ebk6UTkUovqg"
      },
      "execution_count": 15,
      "outputs": []
    },
    {
      "cell_type": "code",
      "source": [
        "print(X_train.shape)\n",
        "print(y_train.shape)\n",
        "print(X_valid.shape)\n",
        "print(y_valid.shape)"
      ],
      "metadata": {
        "id": "pc3ad0qWpRhN",
        "colab": {
          "base_uri": "https://localhost:8080/"
        },
        "outputId": "56df502b-d4f4-40ba-9249-8eed3fcb2a67"
      },
      "execution_count": 16,
      "outputs": [
        {
          "output_type": "stream",
          "name": "stdout",
          "text": [
            "(10200, 2, 2, 1)\n",
            "(10200,)\n",
            "(1800, 2, 2, 1)\n",
            "(1800,)\n"
          ]
        }
      ]
    },
    {
      "cell_type": "markdown",
      "source": [
        "DATA ENCODING"
      ],
      "metadata": {
        "id": "daK3_CPbp8tc"
      }
    },
    {
      "cell_type": "code",
      "source": [
        "# 1) PROCESS PIX VALUE TO BINARY CODE\n",
        "X_train = X_train.reshape(X_train.shape[0],*(1,4,1))\n",
        "X_valid = X_valid.reshape(X_valid.shape[0],*(1,4,1))\n",
        "X_test = X_test.reshape(X_test.shape[0],*(1,4,1))\n",
        "\n",
        "\n"
      ],
      "metadata": {
        "id": "88TNi7Ogp1AB"
      },
      "execution_count": 17,
      "outputs": []
    },
    {
      "cell_type": "code",
      "source": [
        "print(X_train[0])"
      ],
      "metadata": {
        "id": "u4aHr5SOqdLS",
        "colab": {
          "base_uri": "https://localhost:8080/"
        },
        "outputId": "b4a2a6c0-910f-43ef-9420-b326f168b707"
      },
      "execution_count": 18,
      "outputs": [
        {
          "output_type": "stream",
          "name": "stdout",
          "text": [
            "[[[0.        ]\n",
            "  [0.41568628]\n",
            "  [0.7137255 ]\n",
            "  [0.73921573]]]\n"
          ]
        }
      ]
    },
    {
      "cell_type": "code",
      "source": [
        "def binary_encode(X,threshold=0.5):\n",
        "  encoded_images = list()\n",
        "  for image in X:\n",
        "    encoded_image = [1 if j>threshold else 0 for j in image[0]]\n",
        "    encoded_images.append(encoded_image)\n",
        "  return np.array(encoded_images)"
      ],
      "metadata": {
        "id": "qbwptjMoqdN9"
      },
      "execution_count": 19,
      "outputs": []
    },
    {
      "cell_type": "code",
      "source": [
        "X_train = binary_encode(X_train)\n",
        "print(X_train[0])"
      ],
      "metadata": {
        "id": "6RwO7JPFqdSl",
        "colab": {
          "base_uri": "https://localhost:8080/"
        },
        "outputId": "0b215dff-6dd6-4afa-ce1a-4c486cbf5d64"
      },
      "execution_count": 20,
      "outputs": [
        {
          "output_type": "stream",
          "name": "stdout",
          "text": [
            "[0 0 1 1]\n"
          ]
        }
      ]
    },
    {
      "cell_type": "code",
      "source": [
        "X_train.shape"
      ],
      "metadata": {
        "id": "hUX7a2n5qdVu",
        "colab": {
          "base_uri": "https://localhost:8080/"
        },
        "outputId": "535bb1df-eb31-437c-ff60-99dba07d6096"
      },
      "execution_count": 21,
      "outputs": [
        {
          "output_type": "execute_result",
          "data": {
            "text/plain": [
              "(10200, 4)"
            ]
          },
          "metadata": {},
          "execution_count": 21
        }
      ]
    },
    {
      "cell_type": "code",
      "source": [],
      "metadata": {
        "id": "q2IyWh2RrYBJ"
      },
      "execution_count": 21,
      "outputs": []
    },
    {
      "cell_type": "markdown",
      "source": [
        "Creat Circuit from Image"
      ],
      "metadata": {
        "id": "RFiDvuTbra4H"
      }
    },
    {
      "cell_type": "code",
      "source": [
        "def create_circuit_from_image(encoded_image):\n",
        "  qubits = cirq.GridQubit.rect(2,2)\n",
        "  circuit = cirq.Circuit()\n",
        "  for i, pixel in enumerate(encoded_image):\n",
        "    if pixel:\n",
        "      circuit.append(cirq.X(qubits[i]))\n",
        "  return circuit"
      ],
      "metadata": {
        "id": "VpfbYNxHqdaB"
      },
      "execution_count": 22,
      "outputs": []
    },
    {
      "cell_type": "code",
      "source": [
        "X_train = [create_circuit_from_image(encoded_image)for encoded_image in X_train]\n",
        "print(X_train[0])"
      ],
      "metadata": {
        "id": "5OI5UvB6u5Yz",
        "colab": {
          "base_uri": "https://localhost:8080/"
        },
        "outputId": "d2fe3bd3-45dc-4fc5-b3fb-fb424a9e124c"
      },
      "execution_count": 23,
      "outputs": [
        {
          "output_type": "stream",
          "name": "stdout",
          "text": [
            "(1, 0): ───X───\n",
            "\n",
            "(1, 1): ───X───\n"
          ]
        }
      ]
    },
    {
      "cell_type": "code",
      "source": [
        "# 2) CONVERT CIRQ CIRCUIT INTO TENSORFLOW TF"
      ],
      "metadata": {
        "id": "Sc-vnF2JIm2p"
      },
      "execution_count": 24,
      "outputs": []
    },
    {
      "cell_type": "code",
      "source": [
        "X_train_tfq = tfq.convert_to_tensor(X_train)\n",
        "X_train_tfq[0]"
      ],
      "metadata": {
        "id": "p5xKCDqzIm5K",
        "colab": {
          "base_uri": "https://localhost:8080/"
        },
        "outputId": "538321e6-406b-412e-8695-f08910817374"
      },
      "execution_count": 25,
      "outputs": [
        {
          "output_type": "execute_result",
          "data": {
            "text/plain": [
              "<tf.Tensor: shape=(), dtype=string, numpy=b'\\n\\x0e\\n\\x0ctfq_gate_set\\x12\\x99\\x02\\x08\\x01\\x12\\x94\\x02\\n\\x87\\x01\\n\\x04\\n\\x02XP\\x12\\x1a\\n\\x0fexponent_scalar\\x12\\x07\\n\\x05\\r\\x00\\x00\\x80?\\x12\\x13\\n\\x08exponent\\x12\\x07\\n\\x05\\r\\x00\\x00\\x80?\\x12\\x16\\n\\x0econtrol_qubits\\x12\\x04\\n\\x02\\x1a\\x00\\x12\\x16\\n\\x0econtrol_values\\x12\\x04\\n\\x02\\x1a\\x00\\x12\\x17\\n\\x0cglobal_shift\\x12\\x07\\n\\x05\\r\\x00\\x00\\x00\\x00\\x1a\\x05\\x12\\x031_0\\n\\x87\\x01\\n\\x04\\n\\x02XP\\x12\\x16\\n\\x0econtrol_qubits\\x12\\x04\\n\\x02\\x1a\\x00\\x12\\x1a\\n\\x0fexponent_scalar\\x12\\x07\\n\\x05\\r\\x00\\x00\\x80?\\x12\\x17\\n\\x0cglobal_shift\\x12\\x07\\n\\x05\\r\\x00\\x00\\x00\\x00\\x12\\x16\\n\\x0econtrol_values\\x12\\x04\\n\\x02\\x1a\\x00\\x12\\x13\\n\\x08exponent\\x12\\x07\\n\\x05\\r\\x00\\x00\\x80?\\x1a\\x05\\x12\\x031_1'>"
            ]
          },
          "metadata": {},
          "execution_count": 25
        }
      ]
    },
    {
      "cell_type": "code",
      "source": [
        "X_valid = binary_encode(X_valid)\n",
        "X_test = binary_encode(X_test)"
      ],
      "metadata": {
        "id": "z_YU_lzlIm-9"
      },
      "execution_count": 26,
      "outputs": []
    },
    {
      "cell_type": "code",
      "source": [
        "X_valid = [create_circuit_from_image(encoded_image)for encoded_image in X_valid]\n",
        "X_test = [create_circuit_from_image(encoded_image)for encoded_image in X_test]"
      ],
      "metadata": {
        "id": "Wc8N5wKdOxbq"
      },
      "execution_count": 27,
      "outputs": []
    },
    {
      "cell_type": "code",
      "source": [
        "X_valid_tfq = tfq.convert_to_tensor(X_valid)\n",
        "X_test_tfq = tfq.convert_to_tensor(X_test)"
      ],
      "metadata": {
        "id": "yONyeCiHPcgW"
      },
      "execution_count": 28,
      "outputs": []
    },
    {
      "cell_type": "markdown",
      "source": [
        "## **QUANTUM** **NEURAL** **NETWORK**\n"
      ],
      "metadata": {
        "id": "9pwu6n7JP5hg"
      }
    },
    {
      "cell_type": "code",
      "source": [
        "class QNN():\n",
        "  def __init__(self,data_qubits,readout):\n",
        "    self.data_qubits = data_qubits\n",
        "    self.readout = readout\n",
        "\n",
        "  def add_singleQubit_gate(self,circuit,gate,qubit_index):\n",
        "    for index in qubit_index:\n",
        "      circuit.append(gate(self.data_qubits[index]))\n",
        "  \n",
        "  def add_twoQubit_gate(self,circuit,gate,qubit_index):\n",
        "    \n",
        "    if len(qubit_index) !=2:\n",
        "      raise Exception(\"The Length of list passed for two qubits\\ gate operation must equal to two\")\n",
        "      circuit.append(gate(self.data_qubits[qubits_index[0]],self.data_qubits[quite_index[1]]))\n",
        "  def add_layer(self,circuit,gate,symbol_gate):\n",
        "    for i,qubit in enumerate(self.data_qubits):\n",
        "      symbol = sympy.Symbol(symbol_gate+ '-'+str(i))\n",
        "      circuit.append(gate(qubit,self.readout)**symbol)\n",
        "\n"
      ],
      "metadata": {
        "id": "hZlU2J_FQK8m"
      },
      "execution_count": 29,
      "outputs": []
    },
    {
      "cell_type": "code",
      "source": [
        "def create_qnn():\n",
        "  data_qubits = cirq.GridQubit.rect(2,2)\n",
        "  readout = cirq.GridQubit(-1,-1)\n",
        "  circuit = cirq.Circuit()\n",
        "\n",
        "  circuit.append(cirq.X(readout))\n",
        "  circuit.append(cirq.H(readout))\n",
        "\n",
        "  qnn = QNN(data_qubits=data_qubits,readout=readout)\n",
        "\n",
        "  # ADD THE ISING COUPLING XX GATE\n",
        "  qnn.add_layer(circuit,cirq.XX,'xx')\n",
        "  qnn.add_layer(circuit,cirq.ZZ,'zz')\n",
        "\n",
        "  circuit.append(cirq.H(readout))\n",
        "  return circuit,cirq.Z(readout)"
      ],
      "metadata": {
        "id": "uUOztfJnU9rz"
      },
      "execution_count": 30,
      "outputs": []
    },
    {
      "cell_type": "code",
      "source": [
        "qmodel ,model_readout = create_qnn()\n"
      ],
      "metadata": {
        "id": "_pEYNTeeXuBN"
      },
      "execution_count": 31,
      "outputs": []
    },
    {
      "cell_type": "code",
      "source": [],
      "metadata": {
        "id": "GUNo8aGNsLxY"
      },
      "execution_count": null,
      "outputs": []
    },
    {
      "cell_type": "markdown",
      "source": [
        " QUANTUM CIRCUIT"
      ],
      "metadata": {
        "id": "lzkDBdgfsMGl"
      }
    },
    {
      "cell_type": "code",
      "source": [
        "# LETS HAVE LOOK  OF QUANTUM CIRCUIT\n",
        "SVGCircuit(qmodel)"
      ],
      "metadata": {
        "colab": {
          "base_uri": "https://localhost:8080/",
          "height": 289
        },
        "id": "q4lPM1EUYlit",
        "outputId": "0afc60ee-1cc6-4c1a-f70b-a986f2fe53f0"
      },
      "execution_count": 32,
      "outputs": [
        {
          "output_type": "stream",
          "name": "stderr",
          "text": [
            "WARNING:matplotlib.font_manager:findfont: Font family ['Arial'] not found. Falling back to DejaVu Sans.\n"
          ]
        },
        {
          "output_type": "execute_result",
          "data": {
            "text/plain": [
              "<cirq.contrib.svg.svg.SVGCircuit at 0x7f6e6f752e10>"
            ],
            "image/svg+xml": "<svg xmlns=\"http://www.w3.org/2000/svg\" width=\"1097.236875\" height=\"250.0\"><line x1=\"39.810625\" x2=\"1067.236875\" y1=\"25.0\" y2=\"25.0\" stroke=\"#1967d2\" stroke-width=\"1\" /><line x1=\"39.810625\" x2=\"1067.236875\" y1=\"75.0\" y2=\"75.0\" stroke=\"#1967d2\" stroke-width=\"1\" /><line x1=\"39.810625\" x2=\"1067.236875\" y1=\"125.0\" y2=\"125.0\" stroke=\"#1967d2\" stroke-width=\"1\" /><line x1=\"39.810625\" x2=\"1067.236875\" y1=\"175.0\" y2=\"175.0\" stroke=\"#1967d2\" stroke-width=\"1\" /><line x1=\"39.810625\" x2=\"1067.236875\" y1=\"225.0\" y2=\"225.0\" stroke=\"#1967d2\" stroke-width=\"1\" /><line x1=\"249.99353515625\" x2=\"249.99353515625\" y1=\"25.0\" y2=\"75.0\" stroke=\"black\" stroke-width=\"3\" /><line x1=\"350.73810546875006\" x2=\"350.73810546875006\" y1=\"25.0\" y2=\"125.0\" stroke=\"black\" stroke-width=\"3\" /><line x1=\"451.48267578125007\" x2=\"451.48267578125007\" y1=\"25.0\" y2=\"175.0\" stroke=\"black\" stroke-width=\"3\" /><line x1=\"552.2272460937501\" x2=\"552.2272460937501\" y1=\"25.0\" y2=\"225.0\" stroke=\"black\" stroke-width=\"3\" /><line x1=\"651.92919921875\" x2=\"651.92919921875\" y1=\"25.0\" y2=\"75.0\" stroke=\"black\" stroke-width=\"3\" /><line x1=\"750.58853515625\" x2=\"750.58853515625\" y1=\"25.0\" y2=\"125.0\" stroke=\"black\" stroke-width=\"3\" /><line x1=\"849.2478710937501\" x2=\"849.2478710937501\" y1=\"25.0\" y2=\"175.0\" stroke=\"black\" stroke-width=\"3\" /><line x1=\"947.9072070312501\" x2=\"947.9072070312501\" y1=\"25.0\" y2=\"225.0\" stroke=\"black\" stroke-width=\"3\" /><rect x=\"10.0\" y=\"5.0\" width=\"59.62125\" height=\"40\" stroke=\"black\" fill=\"white\" stroke-width=\"0\" /><text x=\"39.810625\" y=\"25.0\" dominant-baseline=\"middle\" text-anchor=\"middle\" font-size=\"14px\" font-family=\"Arial\">(-1, -1): </text><rect x=\"10.0\" y=\"55.0\" width=\"59.62125\" height=\"40\" stroke=\"black\" fill=\"white\" stroke-width=\"0\" /><text x=\"39.810625\" y=\"75.0\" dominant-baseline=\"middle\" text-anchor=\"middle\" font-size=\"14px\" font-family=\"Arial\">(0, 0): </text><rect x=\"10.0\" y=\"105.0\" width=\"59.62125\" height=\"40\" stroke=\"black\" fill=\"white\" stroke-width=\"0\" /><text x=\"39.810625\" y=\"125.0\" dominant-baseline=\"middle\" text-anchor=\"middle\" font-size=\"14px\" font-family=\"Arial\">(0, 1): </text><rect x=\"10.0\" y=\"155.0\" width=\"59.62125\" height=\"40\" stroke=\"black\" fill=\"white\" stroke-width=\"0\" /><text x=\"39.810625\" y=\"175.0\" dominant-baseline=\"middle\" text-anchor=\"middle\" font-size=\"14px\" font-family=\"Arial\">(1, 0): </text><rect x=\"10.0\" y=\"205.0\" width=\"59.62125\" height=\"40\" stroke=\"black\" fill=\"white\" stroke-width=\"0\" /><text x=\"39.810625\" y=\"225.0\" dominant-baseline=\"middle\" text-anchor=\"middle\" font-size=\"14px\" font-family=\"Arial\">(1, 1): </text><rect x=\"89.62125\" y=\"5.0\" width=\"40\" height=\"40\" stroke=\"black\" fill=\"white\" stroke-width=\"1\" /><text x=\"109.62125\" y=\"25.0\" dominant-baseline=\"middle\" text-anchor=\"middle\" font-size=\"18px\" font-family=\"Arial\">X</text><rect x=\"149.62125\" y=\"5.0\" width=\"40\" height=\"40\" stroke=\"black\" fill=\"white\" stroke-width=\"1\" /><text x=\"169.62125\" y=\"25.0\" dominant-baseline=\"middle\" text-anchor=\"middle\" font-size=\"18px\" font-family=\"Arial\">H</text><rect x=\"209.62125\" y=\"55.0\" width=\"80.74457031250002\" height=\"40\" stroke=\"black\" fill=\"white\" stroke-width=\"1\" /><text x=\"249.99353515625\" y=\"75.0\" dominant-baseline=\"middle\" text-anchor=\"middle\" font-size=\"14px\" font-family=\"Arial\">XX^(xx-0)</text><rect x=\"209.62125\" y=\"5.0\" width=\"80.74457031250002\" height=\"40\" stroke=\"black\" fill=\"white\" stroke-width=\"1\" /><text x=\"249.99353515625\" y=\"25.0\" dominant-baseline=\"middle\" text-anchor=\"middle\" font-size=\"14px\" font-family=\"Arial\">XX</text><rect x=\"310.36582031250003\" y=\"105.0\" width=\"80.74457031250002\" height=\"40\" stroke=\"black\" fill=\"white\" stroke-width=\"1\" /><text x=\"350.73810546875006\" y=\"125.0\" dominant-baseline=\"middle\" text-anchor=\"middle\" font-size=\"14px\" font-family=\"Arial\">XX^(xx-1)</text><rect x=\"310.36582031250003\" y=\"5.0\" width=\"80.74457031250002\" height=\"40\" stroke=\"black\" fill=\"white\" stroke-width=\"1\" /><text x=\"350.73810546875006\" y=\"25.0\" dominant-baseline=\"middle\" text-anchor=\"middle\" font-size=\"14px\" font-family=\"Arial\">XX</text><rect x=\"411.11039062500004\" y=\"155.0\" width=\"80.74457031250002\" height=\"40\" stroke=\"black\" fill=\"white\" stroke-width=\"1\" /><text x=\"451.48267578125007\" y=\"175.0\" dominant-baseline=\"middle\" text-anchor=\"middle\" font-size=\"14px\" font-family=\"Arial\">XX^(xx-2)</text><rect x=\"411.11039062500004\" y=\"5.0\" width=\"80.74457031250002\" height=\"40\" stroke=\"black\" fill=\"white\" stroke-width=\"1\" /><text x=\"451.48267578125007\" y=\"25.0\" dominant-baseline=\"middle\" text-anchor=\"middle\" font-size=\"14px\" font-family=\"Arial\">XX</text><rect x=\"511.85496093750004\" y=\"205.0\" width=\"80.74457031250002\" height=\"40\" stroke=\"black\" fill=\"white\" stroke-width=\"1\" /><text x=\"552.2272460937501\" y=\"225.0\" dominant-baseline=\"middle\" text-anchor=\"middle\" font-size=\"14px\" font-family=\"Arial\">XX^(xx-3)</text><rect x=\"511.85496093750004\" y=\"5.0\" width=\"80.74457031250002\" height=\"40\" stroke=\"black\" fill=\"white\" stroke-width=\"1\" /><text x=\"552.2272460937501\" y=\"25.0\" dominant-baseline=\"middle\" text-anchor=\"middle\" font-size=\"14px\" font-family=\"Arial\">XX</text><rect x=\"612.59953125\" y=\"55.0\" width=\"78.65933593750002\" height=\"40\" stroke=\"black\" fill=\"white\" stroke-width=\"1\" /><text x=\"651.92919921875\" y=\"75.0\" dominant-baseline=\"middle\" text-anchor=\"middle\" font-size=\"14px\" font-family=\"Arial\">ZZ^(zz-0)</text><rect x=\"612.59953125\" y=\"5.0\" width=\"78.65933593750002\" height=\"40\" stroke=\"black\" fill=\"white\" stroke-width=\"1\" /><text x=\"651.92919921875\" y=\"25.0\" dominant-baseline=\"middle\" text-anchor=\"middle\" font-size=\"14px\" font-family=\"Arial\">ZZ</text><rect x=\"711.2588671875001\" y=\"105.0\" width=\"78.65933593750002\" height=\"40\" stroke=\"black\" fill=\"white\" stroke-width=\"1\" /><text x=\"750.58853515625\" y=\"125.0\" dominant-baseline=\"middle\" text-anchor=\"middle\" font-size=\"14px\" font-family=\"Arial\">ZZ^(zz-1)</text><rect x=\"711.2588671875001\" y=\"5.0\" width=\"78.65933593750002\" height=\"40\" stroke=\"black\" fill=\"white\" stroke-width=\"1\" /><text x=\"750.58853515625\" y=\"25.0\" dominant-baseline=\"middle\" text-anchor=\"middle\" font-size=\"14px\" font-family=\"Arial\">ZZ</text><rect x=\"809.9182031250001\" y=\"155.0\" width=\"78.65933593750002\" height=\"40\" stroke=\"black\" fill=\"white\" stroke-width=\"1\" /><text x=\"849.2478710937501\" y=\"175.0\" dominant-baseline=\"middle\" text-anchor=\"middle\" font-size=\"14px\" font-family=\"Arial\">ZZ^(zz-2)</text><rect x=\"809.9182031250001\" y=\"5.0\" width=\"78.65933593750002\" height=\"40\" stroke=\"black\" fill=\"white\" stroke-width=\"1\" /><text x=\"849.2478710937501\" y=\"25.0\" dominant-baseline=\"middle\" text-anchor=\"middle\" font-size=\"14px\" font-family=\"Arial\">ZZ</text><rect x=\"908.5775390625001\" y=\"205.0\" width=\"78.65933593750002\" height=\"40\" stroke=\"black\" fill=\"white\" stroke-width=\"1\" /><text x=\"947.9072070312501\" y=\"225.0\" dominant-baseline=\"middle\" text-anchor=\"middle\" font-size=\"14px\" font-family=\"Arial\">ZZ^(zz-3)</text><rect x=\"908.5775390625001\" y=\"5.0\" width=\"78.65933593750002\" height=\"40\" stroke=\"black\" fill=\"white\" stroke-width=\"1\" /><text x=\"947.9072070312501\" y=\"25.0\" dominant-baseline=\"middle\" text-anchor=\"middle\" font-size=\"14px\" font-family=\"Arial\">ZZ</text><rect x=\"1007.236875\" y=\"5.0\" width=\"40\" height=\"40\" stroke=\"black\" fill=\"white\" stroke-width=\"1\" /><text x=\"1027.236875\" y=\"25.0\" dominant-baseline=\"middle\" text-anchor=\"middle\" font-size=\"18px\" font-family=\"Arial\">H</text></svg>"
          },
          "metadata": {},
          "execution_count": 32
        }
      ]
    },
    {
      "cell_type": "code",
      "source": [
        "model = tf.keras.Sequential([\n",
        "    # encode tf as str\n",
        "    tf.keras.layers.Input(shape=(),dtype=tf.string),\n",
        "    # PQC (PARAMATRIZED QUANTUM CIRCUIT)\n",
        "      tfq.layers.PQC(qmodel,model_readout),\n",
        "])\n"
      ],
      "metadata": {
        "id": "zMF_yuQimj7o"
      },
      "execution_count": 33,
      "outputs": []
    },
    {
      "cell_type": "code",
      "source": [
        "# To use Hinge loss we convert the lables 1 & -1\n",
        "y_train_h = np.array([1 if i==1 else -1 for i in y_train])\n",
        "y_valid_h = np.array([1 if i==1 else -1 for i in y_valid])\n",
        "y_test_h = np.array([1 if i==1 else -1 for i in y_test])"
      ],
      "metadata": {
        "id": "dp3oBeUXphOs"
      },
      "execution_count": 34,
      "outputs": []
    },
    {
      "cell_type": "code",
      "source": [
        "print(y_train_h[1])\n",
        "print(y_valid_h[0])\n",
        "print(y_test_h[1])"
      ],
      "metadata": {
        "colab": {
          "base_uri": "https://localhost:8080/"
        },
        "id": "TIotUujSrMNd",
        "outputId": "c565b51d-e140-4fe5-efc8-9b87042d08fb"
      },
      "execution_count": 35,
      "outputs": [
        {
          "output_type": "stream",
          "name": "stdout",
          "text": [
            "-1\n",
            "1\n",
            "1\n"
          ]
        }
      ]
    },
    {
      "cell_type": "code",
      "source": [
        "# Def custom Hinge Accuracy\n",
        "def hinge_accuracy(y_true,y_pred):\n",
        "  y_true = tf.squeeze(y_true) > 0.0\n",
        "  y_pred = tf.squeeze(y_pred) > 0.0\n",
        "  result = tf.cast(y_true == y_pred,tf.float32)\n",
        "  return tf.reduce_mean(result)"
      ],
      "metadata": {
        "id": "LBoNa54RruX-"
      },
      "execution_count": 36,
      "outputs": []
    },
    {
      "cell_type": "code",
      "source": [
        "# Train QNN\n",
        "model.compile(\n",
        "    loss = tf.keras.losses.Hinge(),\n",
        "    optimizer = tf.keras.optimizers.Adam(learning_rate=0.001),\n",
        "    metrics = [hinge_accuracy])"
      ],
      "metadata": {
        "id": "oiPXJYTYs1v8"
      },
      "execution_count": 37,
      "outputs": []
    },
    {
      "cell_type": "code",
      "source": [
        "qnn_history = model.fit(\n",
        "    X_train_tfq,y_train_h,\n",
        "    batch_size=64,\n",
        "    epochs=10,\n",
        "    verbose=1,\n",
        "    validation_data = (X_valid_tfq,y_valid_h)\n",
        ")"
      ],
      "metadata": {
        "colab": {
          "base_uri": "https://localhost:8080/"
        },
        "id": "wT1vgqhBuOV3",
        "outputId": "b489b2b8-a232-4f85-9dbd-add3730cb44f"
      },
      "execution_count": 38,
      "outputs": [
        {
          "output_type": "stream",
          "name": "stdout",
          "text": [
            "Epoch 1/10\n",
            "160/160 [==============================] - 16s 97ms/step - loss: 1.0437 - hinge_accuracy: 0.3308 - val_loss: 1.0034 - val_hinge_accuracy: 0.3820\n",
            "Epoch 2/10\n",
            "160/160 [==============================] - 10s 61ms/step - loss: 0.9920 - hinge_accuracy: 0.5739 - val_loss: 0.9615 - val_hinge_accuracy: 0.6180\n",
            "Epoch 3/10\n",
            "160/160 [==============================] - 5s 32ms/step - loss: 0.7453 - hinge_accuracy: 0.7427 - val_loss: 0.5034 - val_hinge_accuracy: 0.8626\n",
            "Epoch 4/10\n",
            "160/160 [==============================] - 5s 33ms/step - loss: 0.4380 - hinge_accuracy: 0.8311 - val_loss: 0.3921 - val_hinge_accuracy: 0.8351\n",
            "Epoch 5/10\n",
            "160/160 [==============================] - 5s 33ms/step - loss: 0.3974 - hinge_accuracy: 0.8344 - val_loss: 0.3917 - val_hinge_accuracy: 0.8351\n",
            "Epoch 6/10\n",
            "160/160 [==============================] - 5s 32ms/step - loss: 0.3940 - hinge_accuracy: 0.8253 - val_loss: 0.3942 - val_hinge_accuracy: 0.7958\n",
            "Epoch 7/10\n",
            "160/160 [==============================] - 5s 32ms/step - loss: 0.3932 - hinge_accuracy: 0.8025 - val_loss: 0.3962 - val_hinge_accuracy: 0.7958\n",
            "Epoch 8/10\n",
            "160/160 [==============================] - 9s 57ms/step - loss: 0.3930 - hinge_accuracy: 0.8027 - val_loss: 0.3966 - val_hinge_accuracy: 0.7958\n",
            "Epoch 9/10\n",
            "160/160 [==============================] - 5s 32ms/step - loss: 0.3929 - hinge_accuracy: 0.8030 - val_loss: 0.3972 - val_hinge_accuracy: 0.7958\n",
            "Epoch 10/10\n",
            "160/160 [==============================] - 5s 32ms/step - loss: 0.3928 - hinge_accuracy: 0.8030 - val_loss: 0.3989 - val_hinge_accuracy: 0.7958\n"
          ]
        }
      ]
    },
    {
      "cell_type": "code",
      "source": [
        "model.evaluate(X_test_tfq,y_test_h)"
      ],
      "metadata": {
        "colab": {
          "base_uri": "https://localhost:8080/"
        },
        "id": "Qq09quvAuOYW",
        "outputId": "7a7cc8ab-02a2-457b-b179-17d66aa0234f"
      },
      "execution_count": 39,
      "outputs": [
        {
          "output_type": "stream",
          "name": "stdout",
          "text": [
            "63/63 [==============================] - 1s 10ms/step - loss: 0.3701 - hinge_accuracy: 0.8229\n"
          ]
        },
        {
          "output_type": "execute_result",
          "data": {
            "text/plain": [
              "[0.370137095451355, 0.8229166865348816]"
            ]
          },
          "metadata": {},
          "execution_count": 39
        }
      ]
    },
    {
      "cell_type": "code",
      "source": [
        "# VISUALING \n",
        "plt.plot(qnn_history.history['hinge_accuracy'])\n",
        "plt.plot(qnn_history.history['val_hinge_accuracy'])\n",
        "plt.title(\"MODEL ACCURACY\")\n",
        "plt.xlabel('EPOCHS')\n",
        "plt.ylabel(\"ACCURACY\")\n",
        "plt.legend(['Train','Test'],loc='best')\n",
        "plt.show()"
      ],
      "metadata": {
        "colab": {
          "base_uri": "https://localhost:8080/",
          "height": 295
        },
        "id": "y7CKe7K4uOa4",
        "outputId": "8fd131a2-5f81-473b-9f62-0d10b5758dde"
      },
      "execution_count": 40,
      "outputs": [
        {
          "output_type": "display_data",
          "data": {
            "text/plain": [
              "<Figure size 432x288 with 1 Axes>"
            ],
            "image/png": "[encoded data removed]"
          },
          "metadata": {
            "needs_background": "light"
          }
        }
      ]
    },
    {
      "cell_type": "code",
      "source": [
        "plt.plot(qnn_history.history['loss'])\n",
        "plt.plot(qnn_history.history['val_loss'])\n",
        "plt.title(\"MODEL LOSS\")\n",
        "plt.xlabel('EPOCHS')\n",
        "plt.ylabel(\"ACCURACY\")\n",
        "plt.legend(['Train','Test'],loc='best')\n",
        "plt.show()"
      ],
      "metadata": {
        "colab": {
          "base_uri": "https://localhost:8080/",
          "height": 295
        },
        "id": "sEkKsU2NuOdm",
        "outputId": "eb511253-2cf7-4a16-8ec6-f6c5878fa2f1"
      },
      "execution_count": 41,
      "outputs": [
        {
          "output_type": "display_data",
          "data": {
            "text/plain": [
              "<Figure size 432x288 with 1 Axes>"
            ],
            "image/png": "[encoded data removed]"
          },
          "metadata": {
            "needs_background": "light"
          }
        }
      ]
    }
  ]
}